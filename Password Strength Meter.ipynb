{
 "cells": [
  {
   "cell_type": "markdown",
   "metadata": {},
   "source": [
    "# 📜 Code Breakdown"
   ]
  },
  {
   "cell_type": "markdown",
   "metadata": {},
   "source": [
    "## 1️⃣ Import Required Modules\n",
    "\n",
    "- **re**: Used for regular expressions to check password criteria.\n",
    "- **random** and **string**: Used to generate a strong password suggestion."
   ]
  },
  {
   "cell_type": "code",
   "execution_count": 1,
   "metadata": {},
   "outputs": [],
   "source": [
    "import re\n",
    "import random\n",
    "import string"
   ]
  },
  {
   "cell_type": "markdown",
   "metadata": {},
   "source": [
    "## 2️⃣ Blacklist of Common Passwords\n",
    "\n",
    "This set contains commonly used weak passwords that should be avoided. The program immediately rejects any password found in this list."
   ]
  },
  {
   "cell_type": "code",
   "execution_count": 2,
   "metadata": {},
   "outputs": [],
   "source": [
    "COMMON_PASSWORDS = {\n",
    "    \"password\", \"123456\", \"password123\", \"qwerty\", \"admin\", \"letmein\", \"12345678\", \"abc123\"\n",
    "}"
   ]
  },
  {
   "cell_type": "markdown",
   "metadata": {},
   "source": [
    "## 3️⃣ Generate a Strong Password\n",
    "\n",
    "### 🔹 How It Works:\n",
    "\n",
    "- Ensures minimum length of 8 characters.\n",
    "- Includes at least one of each character type (uppercase, lowercase, digit, special character).\n",
    "- Generates the remaining characters randomly and shuffles them for randomness.\n",
    "- Returns a secure, random password."
   ]
  },
  {
   "cell_type": "code",
   "execution_count": null,
   "metadata": {},
   "outputs": [],
   "source": [
    "def generate_strong_password(length=12):\n",
    "    if length < 8:\n",
    "        length = 8\n",
    "\n",
    "    upper = random.choice(string.ascii_uppercase)\n",
    "    lower = random.choice(string.ascii_lowercase)\n",
    "    digit = random.choice(string.digits)\n",
    "    special = random.choice(\"!@#$%^&*\")\n",
    "\n",
    "    remaining_length = length - 4\n",
    "    all_chars = string.ascii_letters + string.digits + \"!@#$%^&*\"\n",
    "    rest = [random.choice(all_chars) for _ in range(remaining_length)]\n",
    "\n",
    "    password_list = list(upper + lower + digit + special + \"\".join(rest))\n",
    "    random.shuffle(password_list)\n",
    "    return \"\".join(password_list)"
   ]
  },
  {
   "cell_type": "markdown",
   "metadata": {},
   "source": [
    "## 4️⃣ Check Password Strength\n",
    "\n",
    "- Initializes a score variable (from 0 to 4) to determine password strength.\n",
    "- Uses a feedback list to store improvement suggestions."
   ]
  },
  {
   "cell_type": "code",
   "execution_count": 4,
   "metadata": {},
   "outputs": [],
   "source": [
    "def check_password_strength(password):\n",
    "    score = 0\n",
    "    feedback = []"
   ]
  },
  {
   "cell_type": "markdown",
   "metadata": {},
   "source": [
    "## 5️⃣ Blacklist Check\n",
    "\n",
    "If the password is in the common passwords list, the program immediately rejects it."
   ]
  },
  {
   "cell_type": "code",
   "execution_count": null,
   "metadata": {},
   "outputs": [],
   "source": [
    "if password.lower() in COMMON_PASSWORDS:\n",
    "    print(\"❌ This password is too common and insecure. Please choose a more unique password.\")\n",
    "    return"
   ]
  },
  {
   "cell_type": "markdown",
   "metadata": {},
   "source": [
    "## 6️⃣ Checking Password Requirements\n",
    "\n",
    "### ✅ Length Check\n",
    "Ensures the password is at least 8 characters long."
   ]
  },
  {
   "cell_type": "code",
   "execution_count": null,
   "metadata": {},
   "outputs": [],
   "source": [
    "if len(password) >= 8:\n",
    "    score += 1\n",
    "else:\n",
    "    feedback.append(\"Password should be at least 8 characters long.\")"
   ]
  },
  {
   "cell_type": "markdown",
   "metadata": {},
   "source": [
    "## ✅ Upper & Lowercase Check\n",
    "\n",
    "Ensures the password contains at least one uppercase and one lowercase letter."
   ]
  },
  {
   "cell_type": "code",
   "execution_count": null,
   "metadata": {},
   "outputs": [],
   "source": [
    "if re.search(r\"[A-Z]\", password) and re.search(r\"[a-z]\", password):\n",
    "    score += 1\n",
    "else:\n",
    "    feedback.append(\"Include both uppercase and lowercase letters.\")"
   ]
  },
  {
   "cell_type": "markdown",
   "metadata": {},
   "source": [
    "## ✅ Digit Check\n",
    "\n",
    "Checks for at least one numeric character (0-9)."
   ]
  },
  {
   "cell_type": "code",
   "execution_count": null,
   "metadata": {},
   "outputs": [],
   "source": [
    "if re.search(r\"\\d\", password):\n",
    "    score += 1\n",
    "else:\n",
    "    feedback.append(\"Add at least one number (0-9).\")"
   ]
  },
  {
   "cell_type": "markdown",
   "metadata": {},
   "source": [
    "## ✅ Special Character Check\n",
    "\n",
    "Ensures at least one special character from the defined set."
   ]
  },
  {
   "cell_type": "code",
   "execution_count": null,
   "metadata": {},
   "outputs": [],
   "source": [
    "if re.search(r\"[!@#$%^&*]\", password):\n",
    "    score += 1\n",
    "else:\n",
    "    feedback.append(\"Include at least one special character (!@#$%^&*).\")"
   ]
  },
  {
   "cell_type": "markdown",
   "metadata": {},
   "source": [
    "## 7️⃣ Password Strength Evaluation\n",
    "\n",
    "### 🔹 How It Works:\n",
    "\n",
    "**Strong Password (Score 4):**\n",
    "- ✅ Displays success message.\n",
    "\n",
    "**Moderate Password (Score 3):**\n",
    "- ⚠️ Suggests additional security improvements.\n",
    "\n",
    "**Weak Password (Score 1-2):**\n",
    "- ❌ Displays weaknesses and suggests a strong password."
   ]
  },
  {
   "cell_type": "code",
   "execution_count": null,
   "metadata": {},
   "outputs": [],
   "source": [
    "if score == 4:\n",
    "    print(\"✅ Strong Password!\")\n",
    "elif score == 3:\n",
    "    print(\"⚠️ Moderate Password - Consider adding the following security features:\")\n",
    "    for f in feedback:\n",
    "        print(\"   -\", f)\n",
    "else:\n",
    "    print(\"❌ Weak Password - Please improve it by:\")\n",
    "    for f in feedback:\n",
    "        print(\"   -\", f)\n",
    "    suggestion = generate_strong_password()\n",
    "    print(\"💡 Consider using a strong password like:\", suggestion)"
   ]
  },
  {
   "cell_type": "markdown",
   "metadata": {},
   "source": [
    "## 8️⃣ Running the Program\n",
    "\n",
    "- Runs the password checker when the script is executed.\n",
    "- Prompts the user for a password and checks its strength."
   ]
  },
  {
   "cell_type": "code",
   "execution_count": null,
   "metadata": {},
   "outputs": [],
   "source": [
    "if __name__ == \"__main__\":\n",
    "    password = input(\"Enter your password: \")\n",
    "    check_password_strength(password)"
   ]
  }
 ],
 "metadata": {
  "kernelspec": {
   "display_name": "ven",
   "language": "python",
   "name": "python3"
  },
  "language_info": {
   "codemirror_mode": {
    "name": "ipython",
    "version": 3
   },
   "file_extension": ".py",
   "mimetype": "text/x-python",
   "name": "python",
   "nbconvert_exporter": "python",
   "pygments_lexer": "ipython3",
   "version": "3.12.3"
  }
 },
 "nbformat": 4,
 "nbformat_minor": 2
}
